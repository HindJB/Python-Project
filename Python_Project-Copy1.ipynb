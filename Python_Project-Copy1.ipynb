{
 "cells": [
  {
   "cell_type": "markdown",
   "id": "72434a8b",
   "metadata": {},
   "source": [
    "About the data:\n",
    "This is a sales transaction data set of UK-based e-commerce (online retail) for one year. This London-based shop has been selling gifts and homewares for adults and children through the website since 2007. Their customers come from all over the world and usually make direct purchases for themselves. There are also small businesses that buy in bulk and sell to other customers through retail outlet channels.\n",
    "\n",
    "The data set contains 500K rows and 8 columns. The following is the description of each column.\n",
    "\n",
    "1) TransactionNo (categorical): a six-digit unique number that defines each transaction. (The letter “C” in the code indicates a cancellation).\n",
    "\n",
    "2) Date (numeric): the date when each transaction was generated.\n",
    "\n",
    "3) ProductNo (categorical): a five or six-digit unique character used to identify a specific product.\n",
    "\n",
    "4) Product (categorical): product/item name.\n",
    "\n",
    "5) Price (numeric): the price of each product per unit in pound sterling (£).\n",
    "\n",
    "6) Quantity (numeric): the quantity of each product per transaction. (Negative values indicate cancelled transactions).\n",
    "\n",
    "7) CustomerNo (categorical): a five-digit unique number that defines each customer.\n",
    "\n",
    "8) Country (categorical): name of the country where the customer resides.\n",
    "\n",
    "There is a small percentage of order cancellation in the data set. Most of these cancellations were due to out-of-stock conditions on some products. Under this situation, customers tend to cancel an order as they want all products delivered all at once."
   ]
  },
  {
   "cell_type": "markdown",
   "id": "de6079a8",
   "metadata": {},
   "source": [
    "# import python modules"
   ]
  },
  {
   "cell_type": "code",
   "execution_count": 208,
   "id": "fba806ae",
   "metadata": {},
   "outputs": [],
   "source": [
    "import numpy as np"
   ]
  },
  {
   "cell_type": "code",
   "execution_count": 209,
   "id": "92947271",
   "metadata": {},
   "outputs": [],
   "source": [
    "import pandas as pd\n"
   ]
  },
  {
   "cell_type": "markdown",
   "id": "dc7836d4",
   "metadata": {},
   "source": [
    "# Read file ( 'Sales Transaction v.4a.csv' )"
   ]
  },
  {
   "cell_type": "code",
   "execution_count": 210,
   "id": "8feabae5",
   "metadata": {},
   "outputs": [],
   "source": [
    "df = pd.read_csv('Sales Transaction v.4a.csv')"
   ]
  },
  {
   "cell_type": "code",
   "execution_count": null,
   "id": "19fa6c01",
   "metadata": {},
   "outputs": [],
   "source": []
  },
  {
   "cell_type": "code",
   "execution_count": 212,
   "id": "cc218d1b",
   "metadata": {},
   "outputs": [
    {
     "data": {
      "text/html": [
       "<div>\n",
       "<style scoped>\n",
       "    .dataframe tbody tr th:only-of-type {\n",
       "        vertical-align: middle;\n",
       "    }\n",
       "\n",
       "    .dataframe tbody tr th {\n",
       "        vertical-align: top;\n",
       "    }\n",
       "\n",
       "    .dataframe thead th {\n",
       "        text-align: right;\n",
       "    }\n",
       "</style>\n",
       "<table border=\"1\" class=\"dataframe\">\n",
       "  <thead>\n",
       "    <tr style=\"text-align: right;\">\n",
       "      <th></th>\n",
       "      <th>TransactionNo</th>\n",
       "      <th>Date</th>\n",
       "      <th>ProductNo</th>\n",
       "      <th>ProductName</th>\n",
       "      <th>Price</th>\n",
       "      <th>Quantity</th>\n",
       "      <th>CustomerNo</th>\n",
       "      <th>Country</th>\n",
       "    </tr>\n",
       "  </thead>\n",
       "  <tbody>\n",
       "    <tr>\n",
       "      <th>0</th>\n",
       "      <td>581482</td>\n",
       "      <td>12/9/2019</td>\n",
       "      <td>22485</td>\n",
       "      <td>Set Of 2 Wooden Market Crates</td>\n",
       "      <td>21.47</td>\n",
       "      <td>12</td>\n",
       "      <td>17490.0</td>\n",
       "      <td>United Kingdom</td>\n",
       "    </tr>\n",
       "    <tr>\n",
       "      <th>1</th>\n",
       "      <td>581475</td>\n",
       "      <td>12/9/2019</td>\n",
       "      <td>22596</td>\n",
       "      <td>Christmas Star Wish List Chalkboard</td>\n",
       "      <td>10.65</td>\n",
       "      <td>36</td>\n",
       "      <td>13069.0</td>\n",
       "      <td>United Kingdom</td>\n",
       "    </tr>\n",
       "    <tr>\n",
       "      <th>2</th>\n",
       "      <td>581475</td>\n",
       "      <td>12/9/2019</td>\n",
       "      <td>23235</td>\n",
       "      <td>Storage Tin Vintage Leaf</td>\n",
       "      <td>11.53</td>\n",
       "      <td>12</td>\n",
       "      <td>13069.0</td>\n",
       "      <td>United Kingdom</td>\n",
       "    </tr>\n",
       "    <tr>\n",
       "      <th>3</th>\n",
       "      <td>581475</td>\n",
       "      <td>12/9/2019</td>\n",
       "      <td>23272</td>\n",
       "      <td>Tree T-Light Holder Willie Winkie</td>\n",
       "      <td>10.65</td>\n",
       "      <td>12</td>\n",
       "      <td>13069.0</td>\n",
       "      <td>United Kingdom</td>\n",
       "    </tr>\n",
       "    <tr>\n",
       "      <th>4</th>\n",
       "      <td>581475</td>\n",
       "      <td>12/9/2019</td>\n",
       "      <td>23239</td>\n",
       "      <td>Set Of 4 Knick Knack Tins Poppies</td>\n",
       "      <td>11.94</td>\n",
       "      <td>6</td>\n",
       "      <td>13069.0</td>\n",
       "      <td>United Kingdom</td>\n",
       "    </tr>\n",
       "    <tr>\n",
       "      <th>...</th>\n",
       "      <td>...</td>\n",
       "      <td>...</td>\n",
       "      <td>...</td>\n",
       "      <td>...</td>\n",
       "      <td>...</td>\n",
       "      <td>...</td>\n",
       "      <td>...</td>\n",
       "      <td>...</td>\n",
       "    </tr>\n",
       "    <tr>\n",
       "      <th>536345</th>\n",
       "      <td>C536548</td>\n",
       "      <td>12/1/2018</td>\n",
       "      <td>22168</td>\n",
       "      <td>Organiser Wood Antique White</td>\n",
       "      <td>18.96</td>\n",
       "      <td>-2</td>\n",
       "      <td>12472.0</td>\n",
       "      <td>Germany</td>\n",
       "    </tr>\n",
       "    <tr>\n",
       "      <th>536346</th>\n",
       "      <td>C536548</td>\n",
       "      <td>12/1/2018</td>\n",
       "      <td>21218</td>\n",
       "      <td>Red Spotty Biscuit Tin</td>\n",
       "      <td>14.09</td>\n",
       "      <td>-3</td>\n",
       "      <td>12472.0</td>\n",
       "      <td>Germany</td>\n",
       "    </tr>\n",
       "    <tr>\n",
       "      <th>536347</th>\n",
       "      <td>C536548</td>\n",
       "      <td>12/1/2018</td>\n",
       "      <td>20957</td>\n",
       "      <td>Porcelain Hanging Bell Small</td>\n",
       "      <td>11.74</td>\n",
       "      <td>-1</td>\n",
       "      <td>12472.0</td>\n",
       "      <td>Germany</td>\n",
       "    </tr>\n",
       "    <tr>\n",
       "      <th>536348</th>\n",
       "      <td>C536548</td>\n",
       "      <td>12/1/2018</td>\n",
       "      <td>22580</td>\n",
       "      <td>Advent Calendar Gingham Sack</td>\n",
       "      <td>16.35</td>\n",
       "      <td>-4</td>\n",
       "      <td>12472.0</td>\n",
       "      <td>Germany</td>\n",
       "    </tr>\n",
       "    <tr>\n",
       "      <th>536349</th>\n",
       "      <td>C536548</td>\n",
       "      <td>12/1/2018</td>\n",
       "      <td>22767</td>\n",
       "      <td>Triple Photo Frame Cornice</td>\n",
       "      <td>20.45</td>\n",
       "      <td>-2</td>\n",
       "      <td>12472.0</td>\n",
       "      <td>Germany</td>\n",
       "    </tr>\n",
       "  </tbody>\n",
       "</table>\n",
       "<p>536350 rows × 8 columns</p>\n",
       "</div>"
      ],
      "text/plain": [
       "       TransactionNo       Date ProductNo  \\\n",
       "0             581482  12/9/2019     22485   \n",
       "1             581475  12/9/2019     22596   \n",
       "2             581475  12/9/2019     23235   \n",
       "3             581475  12/9/2019     23272   \n",
       "4             581475  12/9/2019     23239   \n",
       "...              ...        ...       ...   \n",
       "536345       C536548  12/1/2018     22168   \n",
       "536346       C536548  12/1/2018     21218   \n",
       "536347       C536548  12/1/2018     20957   \n",
       "536348       C536548  12/1/2018     22580   \n",
       "536349       C536548  12/1/2018     22767   \n",
       "\n",
       "                                ProductName  Price  Quantity  CustomerNo  \\\n",
       "0             Set Of 2 Wooden Market Crates  21.47        12     17490.0   \n",
       "1       Christmas Star Wish List Chalkboard  10.65        36     13069.0   \n",
       "2                  Storage Tin Vintage Leaf  11.53        12     13069.0   \n",
       "3         Tree T-Light Holder Willie Winkie  10.65        12     13069.0   \n",
       "4         Set Of 4 Knick Knack Tins Poppies  11.94         6     13069.0   \n",
       "...                                     ...    ...       ...         ...   \n",
       "536345         Organiser Wood Antique White  18.96        -2     12472.0   \n",
       "536346               Red Spotty Biscuit Tin  14.09        -3     12472.0   \n",
       "536347         Porcelain Hanging Bell Small  11.74        -1     12472.0   \n",
       "536348         Advent Calendar Gingham Sack  16.35        -4     12472.0   \n",
       "536349           Triple Photo Frame Cornice  20.45        -2     12472.0   \n",
       "\n",
       "               Country  \n",
       "0       United Kingdom  \n",
       "1       United Kingdom  \n",
       "2       United Kingdom  \n",
       "3       United Kingdom  \n",
       "4       United Kingdom  \n",
       "...                ...  \n",
       "536345         Germany  \n",
       "536346         Germany  \n",
       "536347         Germany  \n",
       "536348         Germany  \n",
       "536349         Germany  \n",
       "\n",
       "[536350 rows x 8 columns]"
      ]
     },
     "execution_count": 212,
     "metadata": {},
     "output_type": "execute_result"
    }
   ],
   "source": [
    "df"
   ]
  },
  {
   "cell_type": "code",
   "execution_count": 213,
   "id": "3b782e88",
   "metadata": {},
   "outputs": [],
   "source": [
    "df = df.rename(columns={'CustomerNo': 'Cust_no', 'ProductNo': 'Pro_no','ProductName': 'Pro_n','TransactionNo':'Trans_no'})"
   ]
  },
  {
   "cell_type": "code",
   "execution_count": 214,
   "id": "389157b8",
   "metadata": {
    "scrolled": true
   },
   "outputs": [
    {
     "data": {
      "text/html": [
       "<div>\n",
       "<style scoped>\n",
       "    .dataframe tbody tr th:only-of-type {\n",
       "        vertical-align: middle;\n",
       "    }\n",
       "\n",
       "    .dataframe tbody tr th {\n",
       "        vertical-align: top;\n",
       "    }\n",
       "\n",
       "    .dataframe thead th {\n",
       "        text-align: right;\n",
       "    }\n",
       "</style>\n",
       "<table border=\"1\" class=\"dataframe\">\n",
       "  <thead>\n",
       "    <tr style=\"text-align: right;\">\n",
       "      <th></th>\n",
       "      <th>Trans_no</th>\n",
       "      <th>Date</th>\n",
       "      <th>Pro_no</th>\n",
       "      <th>Pro_n</th>\n",
       "      <th>Price</th>\n",
       "      <th>Quantity</th>\n",
       "      <th>Cust_no</th>\n",
       "      <th>Country</th>\n",
       "    </tr>\n",
       "  </thead>\n",
       "  <tbody>\n",
       "    <tr>\n",
       "      <th>0</th>\n",
       "      <td>581482</td>\n",
       "      <td>12/9/2019</td>\n",
       "      <td>22485</td>\n",
       "      <td>Set Of 2 Wooden Market Crates</td>\n",
       "      <td>21.47</td>\n",
       "      <td>12</td>\n",
       "      <td>17490.0</td>\n",
       "      <td>United Kingdom</td>\n",
       "    </tr>\n",
       "    <tr>\n",
       "      <th>1</th>\n",
       "      <td>581475</td>\n",
       "      <td>12/9/2019</td>\n",
       "      <td>22596</td>\n",
       "      <td>Christmas Star Wish List Chalkboard</td>\n",
       "      <td>10.65</td>\n",
       "      <td>36</td>\n",
       "      <td>13069.0</td>\n",
       "      <td>United Kingdom</td>\n",
       "    </tr>\n",
       "    <tr>\n",
       "      <th>2</th>\n",
       "      <td>581475</td>\n",
       "      <td>12/9/2019</td>\n",
       "      <td>23235</td>\n",
       "      <td>Storage Tin Vintage Leaf</td>\n",
       "      <td>11.53</td>\n",
       "      <td>12</td>\n",
       "      <td>13069.0</td>\n",
       "      <td>United Kingdom</td>\n",
       "    </tr>\n",
       "    <tr>\n",
       "      <th>3</th>\n",
       "      <td>581475</td>\n",
       "      <td>12/9/2019</td>\n",
       "      <td>23272</td>\n",
       "      <td>Tree T-Light Holder Willie Winkie</td>\n",
       "      <td>10.65</td>\n",
       "      <td>12</td>\n",
       "      <td>13069.0</td>\n",
       "      <td>United Kingdom</td>\n",
       "    </tr>\n",
       "    <tr>\n",
       "      <th>4</th>\n",
       "      <td>581475</td>\n",
       "      <td>12/9/2019</td>\n",
       "      <td>23239</td>\n",
       "      <td>Set Of 4 Knick Knack Tins Poppies</td>\n",
       "      <td>11.94</td>\n",
       "      <td>6</td>\n",
       "      <td>13069.0</td>\n",
       "      <td>United Kingdom</td>\n",
       "    </tr>\n",
       "    <tr>\n",
       "      <th>...</th>\n",
       "      <td>...</td>\n",
       "      <td>...</td>\n",
       "      <td>...</td>\n",
       "      <td>...</td>\n",
       "      <td>...</td>\n",
       "      <td>...</td>\n",
       "      <td>...</td>\n",
       "      <td>...</td>\n",
       "    </tr>\n",
       "    <tr>\n",
       "      <th>536345</th>\n",
       "      <td>C536548</td>\n",
       "      <td>12/1/2018</td>\n",
       "      <td>22168</td>\n",
       "      <td>Organiser Wood Antique White</td>\n",
       "      <td>18.96</td>\n",
       "      <td>-2</td>\n",
       "      <td>12472.0</td>\n",
       "      <td>Germany</td>\n",
       "    </tr>\n",
       "    <tr>\n",
       "      <th>536346</th>\n",
       "      <td>C536548</td>\n",
       "      <td>12/1/2018</td>\n",
       "      <td>21218</td>\n",
       "      <td>Red Spotty Biscuit Tin</td>\n",
       "      <td>14.09</td>\n",
       "      <td>-3</td>\n",
       "      <td>12472.0</td>\n",
       "      <td>Germany</td>\n",
       "    </tr>\n",
       "    <tr>\n",
       "      <th>536347</th>\n",
       "      <td>C536548</td>\n",
       "      <td>12/1/2018</td>\n",
       "      <td>20957</td>\n",
       "      <td>Porcelain Hanging Bell Small</td>\n",
       "      <td>11.74</td>\n",
       "      <td>-1</td>\n",
       "      <td>12472.0</td>\n",
       "      <td>Germany</td>\n",
       "    </tr>\n",
       "    <tr>\n",
       "      <th>536348</th>\n",
       "      <td>C536548</td>\n",
       "      <td>12/1/2018</td>\n",
       "      <td>22580</td>\n",
       "      <td>Advent Calendar Gingham Sack</td>\n",
       "      <td>16.35</td>\n",
       "      <td>-4</td>\n",
       "      <td>12472.0</td>\n",
       "      <td>Germany</td>\n",
       "    </tr>\n",
       "    <tr>\n",
       "      <th>536349</th>\n",
       "      <td>C536548</td>\n",
       "      <td>12/1/2018</td>\n",
       "      <td>22767</td>\n",
       "      <td>Triple Photo Frame Cornice</td>\n",
       "      <td>20.45</td>\n",
       "      <td>-2</td>\n",
       "      <td>12472.0</td>\n",
       "      <td>Germany</td>\n",
       "    </tr>\n",
       "  </tbody>\n",
       "</table>\n",
       "<p>536350 rows × 8 columns</p>\n",
       "</div>"
      ],
      "text/plain": [
       "       Trans_no       Date Pro_no                                Pro_n  Price  \\\n",
       "0        581482  12/9/2019  22485        Set Of 2 Wooden Market Crates  21.47   \n",
       "1        581475  12/9/2019  22596  Christmas Star Wish List Chalkboard  10.65   \n",
       "2        581475  12/9/2019  23235             Storage Tin Vintage Leaf  11.53   \n",
       "3        581475  12/9/2019  23272    Tree T-Light Holder Willie Winkie  10.65   \n",
       "4        581475  12/9/2019  23239    Set Of 4 Knick Knack Tins Poppies  11.94   \n",
       "...         ...        ...    ...                                  ...    ...   \n",
       "536345  C536548  12/1/2018  22168         Organiser Wood Antique White  18.96   \n",
       "536346  C536548  12/1/2018  21218               Red Spotty Biscuit Tin  14.09   \n",
       "536347  C536548  12/1/2018  20957         Porcelain Hanging Bell Small  11.74   \n",
       "536348  C536548  12/1/2018  22580         Advent Calendar Gingham Sack  16.35   \n",
       "536349  C536548  12/1/2018  22767           Triple Photo Frame Cornice  20.45   \n",
       "\n",
       "        Quantity  Cust_no         Country  \n",
       "0             12  17490.0  United Kingdom  \n",
       "1             36  13069.0  United Kingdom  \n",
       "2             12  13069.0  United Kingdom  \n",
       "3             12  13069.0  United Kingdom  \n",
       "4              6  13069.0  United Kingdom  \n",
       "...          ...      ...             ...  \n",
       "536345        -2  12472.0         Germany  \n",
       "536346        -3  12472.0         Germany  \n",
       "536347        -1  12472.0         Germany  \n",
       "536348        -4  12472.0         Germany  \n",
       "536349        -2  12472.0         Germany  \n",
       "\n",
       "[536350 rows x 8 columns]"
      ]
     },
     "execution_count": 214,
     "metadata": {},
     "output_type": "execute_result"
    }
   ],
   "source": [
    "df"
   ]
  },
  {
   "cell_type": "markdown",
   "id": "07716634",
   "metadata": {},
   "source": [
    "# Exploratory data analysis ( EDA )\n",
    "## Part 1\n",
    "### cleaning ( data types , null ...)"
   ]
  },
  {
   "cell_type": "code",
   "execution_count": 215,
   "id": "3b611799",
   "metadata": {},
   "outputs": [
    {
     "name": "stdout",
     "output_type": "stream",
     "text": [
      "     Trans_no       Date Pro_no                    Pro_n  Price  Quantity  \\\n",
      "890    581492 2019-12-09  20725  Lunch Bag Red Retrospot   6.19         1   \n",
      "1411   581538 2019-12-09  20725  Lunch Bag Red Retrospot   6.19         1   \n",
      "1570   581583 2019-12-09  20725  Lunch Bag Red Retrospot   7.24        40   \n",
      "2369   581218 2019-12-08  20725  Lunch Bag Red Retrospot   6.19        10   \n",
      "3106   581219 2019-12-08  20725  Lunch Bag Red Retrospot   7.24         2   \n",
      "3653   581256 2019-12-08  20725  Lunch Bag Red Retrospot   6.04         1   \n",
      "4302   581383 2019-12-08  20725  Lunch Bag Red Retrospot   6.19        10   \n",
      "4408   581400 2019-12-08  20725  Lunch Bag Red Retrospot   6.19         2   \n",
      "4812   581410 2019-12-08  20725  Lunch Bag Red Retrospot   6.19        20   \n",
      "4929   581412 2019-12-08  20725  Lunch Bag Red Retrospot   6.19         3   \n",
      "\n",
      "      Cust_no         Country  OverallCost  Month  \n",
      "890   15492.0  United Kingdom         6.19     12  \n",
      "1411  14446.0  United Kingdom         6.19     12  \n",
      "1570  13777.0  United Kingdom       289.60     12  \n",
      "2369  14191.0  United Kingdom        61.90     12  \n",
      "3106  16219.0  United Kingdom        14.48     12  \n",
      "3653  12256.0  United Kingdom         6.04     12  \n",
      "4302  15399.0  United Kingdom        61.90     12  \n",
      "4408  14056.0  United Kingdom        12.38     12  \n",
      "4812  13098.0  United Kingdom       123.80     12  \n",
      "4929  14415.0  United Kingdom        18.57     12  \n"
     ]
    }
   ],
   "source": [
    "print(data.head(10))"
   ]
  },
  {
   "cell_type": "code",
   "execution_count": 220,
   "id": "39ba9ba1",
   "metadata": {},
   "outputs": [
    {
     "name": "stdout",
     "output_type": "stream",
     "text": [
      "Trans_no     object\n",
      "Date         object\n",
      "Pro_no       object\n",
      "Pro_n        object\n",
      "Price       float64\n",
      "Quantity      int64\n",
      "Cust_no     float64\n",
      "Country      object\n",
      "dtype: object\n"
     ]
    }
   ],
   "source": [
    "## print the data types\n",
    "print(df.dtypes)\n"
   ]
  },
  {
   "cell_type": "code",
   "execution_count": 224,
   "id": "15281fc8",
   "metadata": {},
   "outputs": [
    {
     "name": "stdout",
     "output_type": "stream",
     "text": [
      "Trans_no            object\n",
      "Date        datetime64[ns]\n",
      "Pro_no              object\n",
      "Pro_n               object\n",
      "Price              float64\n",
      "Quantity             int64\n",
      "Cust_no            float64\n",
      "Country             object\n",
      "dtype: object\n"
     ]
    }
   ],
   "source": [
    "## change data type of Date to datetime64\n",
    "df['Date'] = pd.to_datetime(df['Date'])\n",
    "print(df.dtypes)\n"
   ]
  },
  {
   "cell_type": "code",
   "execution_count": null,
   "id": "85f13117",
   "metadata": {},
   "outputs": [],
   "source": []
  },
  {
   "cell_type": "code",
   "execution_count": 225,
   "id": "f22de629",
   "metadata": {},
   "outputs": [
    {
     "name": "stdout",
     "output_type": "stream",
     "text": [
      "Null Value Counts:\n",
      "Trans_no     0\n",
      "Date         0\n",
      "Pro_no       0\n",
      "Pro_n        0\n",
      "Price        0\n",
      "Quantity     0\n",
      "Cust_no     55\n",
      "Country      0\n",
      "dtype: int64\n"
     ]
    }
   ],
   "source": [
    "## check nulls and fix it \n",
    "null_counts = df.isnull().sum()\n",
    "print(\"Null Value Counts:\")\n",
    "print(null_counts)"
   ]
  },
  {
   "cell_type": "code",
   "execution_count": 261,
   "id": "6dbe8a18",
   "metadata": {},
   "outputs": [],
   "source": [
    "data = data.fillna(0)"
   ]
  },
  {
   "cell_type": "code",
   "execution_count": 262,
   "id": "91e5024b",
   "metadata": {},
   "outputs": [
    {
     "name": "stdout",
     "output_type": "stream",
     "text": [
      "\n",
      "Null Value Counts After Fix:\n",
      "Trans_no       0\n",
      "Date           0\n",
      "Pro_no         0\n",
      "Pro_n          0\n",
      "Price          0\n",
      "Quantity       0\n",
      "Cust_no        0\n",
      "Country        0\n",
      "OverallCost    0\n",
      "Month          0\n",
      "dtype: int64\n"
     ]
    }
   ],
   "source": [
    "null_counts_after_fix = data.isnull().sum()\n",
    "print(\"\\nNull Value Counts After Fix:\")\n",
    "print(null_counts_after_fix)"
   ]
  },
  {
   "cell_type": "code",
   "execution_count": null,
   "id": "0557433a",
   "metadata": {},
   "outputs": [],
   "source": []
  },
  {
   "cell_type": "code",
   "execution_count": null,
   "id": "34392b07",
   "metadata": {},
   "outputs": [],
   "source": []
  },
  {
   "cell_type": "code",
   "execution_count": 233,
   "id": "4facbca1",
   "metadata": {},
   "outputs": [
    {
     "name": "stdout",
     "output_type": "stream",
     "text": [
      "Duplicate rows exist in the DataFrame.\n"
     ]
    }
   ],
   "source": [
    "## check if there is a duplicates rowas\n",
    "duplicate_rows = df.duplicated()\n",
    "if duplicate_rows.any():\n",
    "    print(\"Duplicate rows exist in the DataFrame.\")\n",
    "else:\n",
    "    print(\"No duplicate rows found in the DataFrame.\")\n",
    "\n",
    "# hint : use df.drop_duplicates\n"
   ]
  },
  {
   "cell_type": "code",
   "execution_count": null,
   "id": "c8c6ced0",
   "metadata": {},
   "outputs": [],
   "source": []
  },
  {
   "cell_type": "code",
   "execution_count": null,
   "id": "efeb2f73",
   "metadata": {},
   "outputs": [],
   "source": []
  },
  {
   "cell_type": "code",
   "execution_count": null,
   "id": "bf23d25b",
   "metadata": {},
   "outputs": [],
   "source": []
  },
  {
   "cell_type": "markdown",
   "id": "81dcf2de",
   "metadata": {},
   "source": [
    "### Describe the data "
   ]
  },
  {
   "cell_type": "code",
   "execution_count": 235,
   "id": "4123f520",
   "metadata": {},
   "outputs": [
    {
     "name": "stdout",
     "output_type": "stream",
     "text": [
      "                                Date          Price       Quantity  \\\n",
      "count                         536350  536350.000000  536350.000000   \n",
      "mean   2019-07-04 02:52:31.891116032      12.662182       9.919347   \n",
      "min              2018-12-01 00:00:00       5.130000  -80995.000000   \n",
      "25%              2019-03-28 00:00:00      10.990000       1.000000   \n",
      "50%              2019-07-20 00:00:00      11.940000       3.000000   \n",
      "75%              2019-10-19 00:00:00      14.090000      10.000000   \n",
      "max              2019-12-09 00:00:00     660.620000   80995.000000   \n",
      "std                              NaN       8.490450     216.662300   \n",
      "\n",
      "             Cust_no  \n",
      "count  536295.000000  \n",
      "mean    15227.893178  \n",
      "min     12004.000000  \n",
      "25%     13807.000000  \n",
      "50%     15152.000000  \n",
      "75%     16729.000000  \n",
      "max     18287.000000  \n",
      "std      1716.582932  \n"
     ]
    }
   ],
   "source": [
    "# print describe()\n",
    "print(df.describe())\n"
   ]
  },
  {
   "cell_type": "code",
   "execution_count": 236,
   "id": "ae60234b",
   "metadata": {},
   "outputs": [
    {
     "name": "stdout",
     "output_type": "stream",
     "text": [
      "Minimum Date: 2018-12-01 00:00:00\n",
      "Maximum Date: 2019-12-09 00:00:00\n"
     ]
    }
   ],
   "source": [
    "#what min and max date?\n",
    "min_date = df['Date'].min()\n",
    "max_date = df['Date'].max() \n",
    "\n",
    "print(\"Minimum Date:\", min_date)\n",
    "print(\"Maximum Date:\", max_date)"
   ]
  },
  {
   "cell_type": "code",
   "execution_count": null,
   "id": "2e8b6c76",
   "metadata": {},
   "outputs": [],
   "source": []
  },
  {
   "cell_type": "code",
   "execution_count": 237,
   "id": "9a4f2529",
   "metadata": {},
   "outputs": [
    {
     "name": "stdout",
     "output_type": "stream",
     "text": [
      "Number of Unique Countries: 38\n"
     ]
    }
   ],
   "source": [
    "## how many Country in the dataset?\n",
    "num_countries = df['Country'].nunique()\n",
    "print(\"Number of Unique Countries:\", num_countries)"
   ]
  },
  {
   "cell_type": "code",
   "execution_count": null,
   "id": "be90963d",
   "metadata": {},
   "outputs": [],
   "source": []
  },
  {
   "cell_type": "code",
   "execution_count": 241,
   "id": "ea5726fc",
   "metadata": {},
   "outputs": [
    {
     "name": "stdout",
     "output_type": "stream",
     "text": [
      "       Trans_no       Date Pro_no                                Pro_n  Price  \\\n",
      "0        581482 2019-12-09  22485        Set Of 2 Wooden Market Crates  21.47   \n",
      "1        581475 2019-12-09  22596  Christmas Star Wish List Chalkboard  10.65   \n",
      "2        581475 2019-12-09  23235             Storage Tin Vintage Leaf  11.53   \n",
      "3        581475 2019-12-09  23272    Tree T-Light Holder Willie Winkie  10.65   \n",
      "4        581475 2019-12-09  23239    Set Of 4 Knick Knack Tins Poppies  11.94   \n",
      "...         ...        ...    ...                                  ...    ...   \n",
      "536345  C536548 2018-12-01  22168         Organiser Wood Antique White  18.96   \n",
      "536346  C536548 2018-12-01  21218               Red Spotty Biscuit Tin  14.09   \n",
      "536347  C536548 2018-12-01  20957         Porcelain Hanging Bell Small  11.74   \n",
      "536348  C536548 2018-12-01  22580         Advent Calendar Gingham Sack  16.35   \n",
      "536349  C536548 2018-12-01  22767           Triple Photo Frame Cornice  20.45   \n",
      "\n",
      "        Quantity  Cust_no         Country  OverallCost  \n",
      "0             12  17490.0  United Kingdom       257.64  \n",
      "1             36  13069.0  United Kingdom       383.40  \n",
      "2             12  13069.0  United Kingdom       138.36  \n",
      "3             12  13069.0  United Kingdom       127.80  \n",
      "4              6  13069.0  United Kingdom        71.64  \n",
      "...          ...      ...             ...          ...  \n",
      "536345        -2  12472.0         Germany       -37.92  \n",
      "536346        -3  12472.0         Germany       -42.27  \n",
      "536347        -1  12472.0         Germany       -11.74  \n",
      "536348        -4  12472.0         Germany       -65.40  \n",
      "536349        -2  12472.0         Germany       -40.90  \n",
      "\n",
      "[536350 rows x 9 columns]\n"
     ]
    }
   ],
   "source": [
    "# create a new columns and calculate the overall cost in the order\n",
    "df['OverallCost'] = df['Quantity'] * df['Price']\n",
    "print(df)\n"
   ]
  },
  {
   "cell_type": "code",
   "execution_count": null,
   "id": "a1080c61",
   "metadata": {},
   "outputs": [],
   "source": []
  },
  {
   "cell_type": "markdown",
   "id": "433e1a8e",
   "metadata": {},
   "source": [
    "## Part 2"
   ]
  },
  {
   "cell_type": "markdown",
   "id": "e6e9d795",
   "metadata": {},
   "source": [
    "### Exploratory  analysis "
   ]
  },
  {
   "cell_type": "code",
   "execution_count": 242,
   "id": "83587c34",
   "metadata": {},
   "outputs": [
    {
     "name": "stdout",
     "output_type": "stream",
     "text": [
      "Cost Revenue of Lunch Bag Red Retrospot : 115644.82\n"
     ]
    }
   ],
   "source": [
    "# what is the cost revenue of product ( Lunch Bag Red Retrospot )?\n",
    "product_name = \"Lunch Bag Red Retrospot\"\n",
    "df = df[df['Pro_n'] == product_name]\n",
    "cost_revenue = df ['OverallCost'].sum()\n",
    "print(\"Cost Revenue of\", Pro_n, \":\", cost_revenue)"
   ]
  },
  {
   "cell_type": "code",
   "execution_count": null,
   "id": "893165c1",
   "metadata": {},
   "outputs": [],
   "source": []
  },
  {
   "cell_type": "code",
   "execution_count": 243,
   "id": "58074369",
   "metadata": {},
   "outputs": [
    {
     "name": "stdout",
     "output_type": "stream",
     "text": [
      "Top 5 Customers:\n",
      "Cust_no\n",
      "17841.0    35\n",
      "16729.0    15\n",
      "15078.0    14\n",
      "13263.0    13\n",
      "13098.0    13\n",
      "Name: count, dtype: int64\n"
     ]
    }
   ],
   "source": [
    "# top 5 customers ?\n",
    "\n",
    "top_5_customers = df['Cust_no'].value_counts().head(5)\n",
    "print(\"Top 5 Customers:\")\n",
    "print(top_5_customers)"
   ]
  },
  {
   "cell_type": "code",
   "execution_count": 244,
   "id": "ce057868",
   "metadata": {},
   "outputs": [
    {
     "name": "stdout",
     "output_type": "stream",
     "text": [
      "Trans_no                         578522\n",
      "Date                         11/24/2019\n",
      "Pro_no                            21948\n",
      "Pro_n          Set Of 6 Cake Chopsticks\n",
      "Price                              5.13\n",
      "Quantity                              1\n",
      "Cust_no                         17254.0\n",
      "Country                  United Kingdom\n",
      "OverallCost                        5.13\n",
      "Name: 44632, dtype: object\n"
     ]
    }
   ],
   "source": [
    "# what is the most priced items?\n",
    "sorted_data = df.sort_values(by='Price')\n",
    "print(most_priced_item)"
   ]
  },
  {
   "cell_type": "code",
   "execution_count": null,
   "id": "2b07e3ca",
   "metadata": {},
   "outputs": [],
   "source": []
  },
  {
   "cell_type": "code",
   "execution_count": 252,
   "id": "3b2947db",
   "metadata": {},
   "outputs": [],
   "source": [
    "# at any month most customer spend their money?\n"
   ]
  },
  {
   "cell_type": "code",
   "execution_count": null,
   "id": "9541e463",
   "metadata": {},
   "outputs": [],
   "source": []
  },
  {
   "cell_type": "code",
   "execution_count": null,
   "id": "50db9015",
   "metadata": {},
   "outputs": [],
   "source": []
  },
  {
   "cell_type": "code",
   "execution_count": 253,
   "id": "d08b3867",
   "metadata": {},
   "outputs": [
    {
     "name": "stdout",
     "output_type": "stream",
     "text": [
      "Best Selling Product: 20725\n"
     ]
    }
   ],
   "source": [
    "# what is the best seller Product?\n",
    "product_quantity = df.groupby('Pro_no')['Quantity'].sum()\n",
    "best_seller_product = product_quantity.idxmax()\n",
    "print(\"Best Selling Product:\", best_seller_product)"
   ]
  },
  {
   "cell_type": "code",
   "execution_count": 254,
   "id": "7fdb652a",
   "metadata": {},
   "outputs": [
    {
     "name": "stdout",
     "output_type": "stream",
     "text": [
      "Top 5 Countries in Terms of Orders:\n",
      "Country\n",
      "United Kingdom    1448\n",
      "France              67\n",
      "Germany             23\n",
      "EIRE                21\n",
      "Portugal            14\n",
      "Name: count, dtype: int64\n"
     ]
    }
   ],
   "source": [
    "# what is the top 5 countries in terms of orders?\n",
    "country_orders = df['Country'].value_counts()\n",
    "top_5_countries = country_orders.head(5)\n",
    "print(\"Top 5 Countries in Terms of Orders:\")\n",
    "print(top_5_countries)\n"
   ]
  },
  {
   "cell_type": "code",
   "execution_count": 255,
   "id": "676ccf8a",
   "metadata": {},
   "outputs": [
    {
     "name": "stdout",
     "output_type": "stream",
     "text": [
      "Top 5 Countries in Terms of Spending:\n",
      "Country\n",
      "United Kingdom    90287.25\n",
      "Netherlands        7631.00\n",
      "France             5530.76\n",
      "EIRE               3847.14\n",
      "Germany            1916.68\n",
      "Name: OverallCost, dtype: float64\n"
     ]
    }
   ],
   "source": [
    "# what is the top 5 countries in terms of spending?\n",
    "country_spending = df.groupby('Country')['OverallCost'].sum()\n",
    "top_5_countries = country_spending.nlargest(5)\n",
    "print(\"Top 5 Countries in Terms of Spending:\")\n",
    "print(top_5_countries)"
   ]
  },
  {
   "cell_type": "code",
   "execution_count": 256,
   "id": "709e6ac1",
   "metadata": {},
   "outputs": [
    {
     "name": "stdout",
     "output_type": "stream",
     "text": [
      "Best-Selling Product in Germany: 20725\n"
     ]
    }
   ],
   "source": [
    "# what is the best seller in Germany?\n",
    "germany_data = df[df['Country'] == 'Germany']\n",
    "germany_product_quantity = germany_data.groupby('Pro_no')['Quantity'].sum()\n",
    "best_seller_germany = germany_product_quantity.idxmax()\n",
    "print(\"Best-Selling Product in Germany:\", best_seller_germany)\n"
   ]
  },
  {
   "cell_type": "markdown",
   "id": "f39d29cb",
   "metadata": {},
   "source": [
    "## graphs "
   ]
  },
  {
   "cell_type": "code",
   "execution_count": 257,
   "id": "aacd2c38",
   "metadata": {},
   "outputs": [],
   "source": [
    "import pandas as pd\n",
    "import matplotlib.pyplot as plt"
   ]
  },
  {
   "cell_type": "code",
   "execution_count": 260,
   "id": "6706616b",
   "metadata": {},
   "outputs": [
    {
     "data": {
      "image/png": "[encoded data removed]",
      "text/plain": [
       "<Figure size 640x480 with 1 Axes>"
      ]
     },
     "metadata": {},
     "output_type": "display_data"
    }
   ],
   "source": [
    "import pandas as pd\n",
    "import matplotlib.pyplot as plt\n",
    "\n",
    "data['Date'] = pd.to_datetime(data['Date'])\n",
    "\n",
    "data['Month'] = df['Date'].dt.month\n",
    "\n",
    "monthly_spending = df.groupby('Month')['OverallCost'].sum()\n",
    "\n",
    "monthly_spending.plot(kind='line', marker='o')\n",
    "\n",
    "plt.xlabel('Month')\n",
    "plt.ylabel('Money Spending')\n",
    "plt.title('Money Spending per Month')\n",
    "\n",
    "plt.show()"
   ]
  },
  {
   "cell_type": "code",
   "execution_count": null,
   "id": "67895029",
   "metadata": {},
   "outputs": [],
   "source": []
  },
  {
   "cell_type": "code",
   "execution_count": null,
   "id": "3c605824",
   "metadata": {},
   "outputs": [],
   "source": []
  },
  {
   "cell_type": "code",
   "execution_count": null,
   "id": "c737bfab",
   "metadata": {},
   "outputs": [],
   "source": []
  },
  {
   "cell_type": "code",
   "execution_count": null,
   "id": "58ac2107",
   "metadata": {},
   "outputs": [],
   "source": []
  },
  {
   "cell_type": "code",
   "execution_count": 149,
   "id": "a22f3188",
   "metadata": {},
   "outputs": [],
   "source": [
    "import matplotlib.pyplot as plt"
   ]
  },
  {
   "cell_type": "code",
   "execution_count": 259,
   "id": "c233ed5f",
   "metadata": {},
   "outputs": [
    {
     "data": {
      "image/png": "[encoded data removed]",
      "text/plain": [
       "<Figure size 640x480 with 1 Axes>"
      ]
     },
     "metadata": {},
     "output_type": "display_data"
    }
   ],
   "source": [
    "# plot the top 5 countries in terms of orders\n",
    "\n",
    "country_orders = df['Country'].value_counts()\n",
    "\n",
    "top_5_countries = country_orders.head(5)\n",
    "\n",
    "top_5_countries.plot(kind='bar')\n",
    "\n",
    "plt.xlabel('Country')\n",
    "plt.ylabel('Number of Orders')\n",
    "\n",
    "plt.show()"
   ]
  },
  {
   "cell_type": "code",
   "execution_count": null,
   "id": "41865e8a",
   "metadata": {},
   "outputs": [],
   "source": []
  },
  {
   "cell_type": "code",
   "execution_count": null,
   "id": "b5e74d6c",
   "metadata": {},
   "outputs": [],
   "source": []
  },
  {
   "cell_type": "code",
   "execution_count": null,
   "id": "45200f47",
   "metadata": {},
   "outputs": [],
   "source": []
  }
 ],
 "metadata": {
  "kernelspec": {
   "display_name": "Python 3 (ipykernel)",
   "language": "python",
   "name": "python3"
  },
  "language_info": {
   "codemirror_mode": {
    "name": "ipython",
    "version": 3
   },
   "file_extension": ".py",
   "mimetype": "text/x-python",
   "name": "python",
   "nbconvert_exporter": "python",
   "pygments_lexer": "ipython3",
   "version": "3.11.5"
  },
  "widgets": {
   "application/vnd.jupyter.widget-state+json": {
    "state": {},
    "version_major": 2,
    "version_minor": 0
   }
  }
 },
 "nbformat": 4,
 "nbformat_minor": 5
}
